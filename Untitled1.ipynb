{
 "cells": [
  {
   "cell_type": "code",
   "execution_count": 36,
   "id": "33e06d95-23a8-4a1f-a2fc-1303cd573380",
   "metadata": {},
   "outputs": [],
   "source": [
    "#!/usr/bin/env python3\n",
    "import os\n",
    "import glob\n",
    "from fabric import Connection\n",
    "from dotenv import load_dotenv\n",
    "\n",
    "# Load environment variables from .env\n",
    "load_dotenv()\n",
    "\n",
    "# Retrieve environment variables\n",
    "web01 = os.getenv('web01')\n",
    "web02 = os.getenv('web02')\n",
    "key_path = os.getenv('file_path')\n",
    "password = os.getenv('password')  # Optional\n",
    "servers = [web01, web02]"
   ]
  },
  {
   "cell_type": "code",
   "execution_count": 37,
   "id": "0e2eba4c-5e5f-4214-a24b-3bd86e00d3ef",
   "metadata": {},
   "outputs": [],
   "source": [
    "from fabric import Connection\n",
    "import glob\n"
   ]
  },
  {
   "cell_type": "code",
   "execution_count": 38,
   "id": "864fff3c-7903-475b-8b90-0261c20d4f74",
   "metadata": {},
   "outputs": [
    {
     "data": {
      "text/plain": [
       "'/mnt/000B75A500057336/ALX/AirBnB_clone_v2'"
      ]
     },
     "execution_count": 38,
     "metadata": {},
     "output_type": "execute_result"
    }
   ],
   "source": [
    "os.getcwd()"
   ]
  },
  {
   "cell_type": "code",
   "execution_count": 39,
   "id": "2b7ac1bf-6024-44dd-85d8-c5c128eb2fb5",
   "metadata": {},
   "outputs": [],
   "source": [
    "files = sorted(os.listdir(\"versions\"))"
   ]
  },
  {
   "cell_type": "code",
   "execution_count": 40,
   "id": "f05318c6-06d7-42b8-bb89-534e506bd0c6",
   "metadata": {},
   "outputs": [
    {
     "data": {
      "text/plain": [
       "['web_static_20250531074101.tgz',\n",
       " 'web_static_20250531074138.tgz',\n",
       " 'web_static_20250531074158.tgz',\n",
       " 'web_static_20250531074442.tgz']"
      ]
     },
     "execution_count": 40,
     "metadata": {},
     "output_type": "execute_result"
    }
   ],
   "source": [
    "files"
   ]
  },
  {
   "cell_type": "code",
   "execution_count": 41,
   "id": "f8b7eeae-522e-4f7e-9cf9-2e7f7a774e2e",
   "metadata": {},
   "outputs": [],
   "source": [
    "keep = files[-2:]"
   ]
  },
  {
   "cell_type": "code",
   "execution_count": 42,
   "id": "56918d60-3042-4b3a-a8f3-d42c0d03d0a9",
   "metadata": {},
   "outputs": [],
   "source": [
    "c = Connection(host='NB02', user='yosef')"
   ]
  },
  {
   "cell_type": "code",
   "execution_count": 43,
   "id": "5838a636-4a2e-4a2d-9797-087d52f716b1",
   "metadata": {},
   "outputs": [],
   "source": [
    " b = Connection(\n",
    "            host=web01,\n",
    "            user='ubuntu',\n",
    "            connect_kwargs={\"key_filename\": key_path, \"password\": password})"
   ]
  },
  {
   "cell_type": "code",
   "execution_count": null,
   "id": "fee47a55-62c2-43ab-bd9e-7ae0c4904be7",
   "metadata": {},
   "outputs": [],
   "source": []
  },
  {
   "cell_type": "code",
   "execution_count": 44,
   "id": "e4a95c57-efc6-4f73-88bf-aa84fedd1db8",
   "metadata": {},
   "outputs": [],
   "source": [
    "\n",
    "def clean(number=1):\n",
    "    \n",
    "    try:\n",
    "        files = os.listdir(\"versions\")\n",
    "        for f in files:\n",
    "            if f not in keep:\n",
    "                c.local(f\"rm -rf versions/{f}\")\n",
    "                print(f\"{f} is deleted\")\n",
    "            else:\n",
    "                print(f\"{f} is kept\")\n",
    "        print(\"Remaining files:\", os.listdir(\"versions\"))\n",
    "    except FileNotFoundError as e:\n",
    "        print(f\"Error: {e}\")\n",
    "        raise\n",
    "                \n",
    "    "
   ]
  },
  {
   "cell_type": "code",
   "execution_count": 45,
   "id": "c9fb370f-213e-483d-be37-f24e904aad9e",
   "metadata": {},
   "outputs": [
    {
     "name": "stdout",
     "output_type": "stream",
     "text": [
      "web_static_20250531074101.tgz is deleted\n",
      "web_static_20250531074138.tgz is deleted\n",
      "web_static_20250531074158.tgz is kept\n",
      "web_static_20250531074442.tgz is kept\n",
      "Remaining files: ['web_static_20250531074158.tgz', 'web_static_20250531074442.tgz']\n"
     ]
    }
   ],
   "source": [
    "clean()\n"
   ]
  },
  {
   "cell_type": "code",
   "execution_count": null,
   "id": "45d82439-64d8-4890-b291-d404ddca8316",
   "metadata": {},
   "outputs": [],
   "source": []
  },
  {
   "cell_type": "code",
   "execution_count": null,
   "id": "09e956a5-4917-486f-b751-123f77293049",
   "metadata": {},
   "outputs": [],
   "source": []
  },
  {
   "cell_type": "code",
   "execution_count": null,
   "id": "2d90f34a-b06d-4aba-a893-04ad0594fb00",
   "metadata": {},
   "outputs": [],
   "source": []
  },
  {
   "cell_type": "code",
   "execution_count": null,
   "id": "eb194c85-12c9-4d45-a69b-9aebea02f315",
   "metadata": {},
   "outputs": [],
   "source": []
  }
 ],
 "metadata": {
  "kernelspec": {
   "display_name": "Python (.venv)",
   "language": "python",
   "name": ".venv"
  },
  "language_info": {
   "codemirror_mode": {
    "name": "ipython",
    "version": 3
   },
   "file_extension": ".py",
   "mimetype": "text/x-python",
   "name": "python",
   "nbconvert_exporter": "python",
   "pygments_lexer": "ipython3",
   "version": "3.12.3"
  }
 },
 "nbformat": 4,
 "nbformat_minor": 5
}
