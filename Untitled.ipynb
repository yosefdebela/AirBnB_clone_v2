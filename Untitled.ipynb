{
 "cells": [
  {
   "cell_type": "code",
   "execution_count": null,
   "id": "cfcffad7-6ffc-47a3-99de-787d3cf1ee40",
   "metadata": {},
   "outputs": [],
   "source": [
    "from fabric import Connection"
   ]
  },
  {
   "cell_type": "code",
   "execution_count": null,
   "id": "f4e26f40-f4bf-415c-be82-5b1acb4b4824",
   "metadata": {},
   "outputs": [],
   "source": [
    "from fabric import Connection\n",
    "import os\n",
    "from fabric import SerialGroup\n",
    "\n",
    "key_path = os.path.expanduser('~/.ssh/school')  # Expands to /home/username/.ssh/school\n",
    "# Correct connection with SSH key\n",
    "r = Connection(\n",
    "    host='localhost',\n",
    "    user='root',\n",
    "    port=4444,  # Only if your SSH server is on this port\n",
    "    connect_kwargs={\n",
    "        'key_filename': '/home/yosef/.ssh/school',\n",
    "        'password':'yosef'\n",
    "\n",
    "    }\n",
    ")\n",
    "\n",
    "result = r.run('hostname')\n",
    "print(f\"Command output: {result.stdout}\")"
   ]
  },
  {
   "cell_type": "code",
   "execution_count": null,
   "id": "7536312e-e123-42a9-aa43-37fd27ecf462",
   "metadata": {},
   "outputs": [],
   "source": []
  },
  {
   "cell_type": "code",
   "execution_count": null,
   "id": "30f92d96-6435-495c-97c6-bcdafd809b45",
   "metadata": {},
   "outputs": [],
   "source": []
  }
 ],
 "metadata": {
  "kernelspec": {
   "display_name": "Python (venv)",
   "language": "python",
   "name": "venv"
  },
  "language_info": {
   "codemirror_mode": {
    "name": "ipython",
    "version": 3
   },
   "file_extension": ".py",
   "mimetype": "text/x-python",
   "name": "python",
   "nbconvert_exporter": "python",
   "pygments_lexer": "ipython3",
   "version": "3.12.3"
  }
 },
 "nbformat": 4,
 "nbformat_minor": 5
}
