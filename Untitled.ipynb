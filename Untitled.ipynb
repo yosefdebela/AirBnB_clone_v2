{
 "cells": [
  {
   "cell_type": "code",
   "execution_count": null,
   "id": "ff5ae4ac-e5ce-4c02-a5b8-35c4a3bb73a5",
   "metadata": {},
   "outputs": [],
   "source": []
  }
 ],
 "metadata": {
  "kernelspec": {
   "display_name": "Python (myenv)",
   "language": "python",
   "name": "myenv"
  },
  "language_info": {
   "codemirror_mode": {
    "name": "ipython",
    "version": 3
   },
   "file_extension": ".py",
   "mimetype": "text/x-python",
   "name": "python",
   "nbconvert_exporter": "python",
   "pygments_lexer": "ipython3",
   "version": "3.12.3"
  }
 },
 "nbformat": 4,
 "nbformat_minor": 5
}
