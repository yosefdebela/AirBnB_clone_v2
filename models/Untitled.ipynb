{
 "cells": [
  {
   "cell_type": "code",
   "execution_count": 4,
   "id": "99e46ab5-7cad-4c86-a27a-abe71e656f05",
   "metadata": {},
   "outputs": [],
   "source": [
    "line = \"name=yosef age=88 state=california\"\n"
   ]
  },
  {
   "cell_type": "code",
   "execution_count": 10,
   "id": "8b3b804b-3b22-4c34-a6eb-4a19f78d019a",
   "metadata": {},
   "outputs": [],
   "source": [
    "list = line.split(\" \")"
   ]
  },
  {
   "cell_type": "code",
   "execution_count": 14,
   "id": "8ffdc126-9ca0-4130-822a-2263362a8597",
   "metadata": {},
   "outputs": [
    {
     "name": "stdout",
     "output_type": "stream",
     "text": [
      "['name=yosef', 'age=88', 'state=california']\n"
     ]
    }
   ],
   "source": [
    "type(list)\n",
    "print(list)\n"
   ]
  },
  {
   "cell_type": "code",
   "execution_count": 20,
   "id": "87ebaef7-2592-44f8-855f-92601c8db882",
   "metadata": {},
   "outputs": [
    {
     "name": "stdout",
     "output_type": "stream",
     "text": [
      "age : 88\n",
      "state : california\n"
     ]
    },
    {
     "data": {
      "text/plain": [
       "str"
      ]
     },
     "execution_count": 20,
     "metadata": {},
     "output_type": "execute_result"
    }
   ],
   "source": [
    "for i in range(1, len(list)):\n",
    "    key, value = tuple(list[i].split(\"=\"))\n",
    "    print(f\"{key} : {value}\") \n",
    "type(key)"
   ]
  },
  {
   "cell_type": "code",
   "execution_count": null,
   "id": "e73d61c0-52ff-4eb9-8113-59689943d319",
   "metadata": {},
   "outputs": [],
   "source": []
  }
 ],
 "metadata": {
  "kernelspec": {
   "display_name": "Python (venv)",
   "language": "python",
   "name": "venv"
  },
  "language_info": {
   "codemirror_mode": {
    "name": "ipython",
    "version": 3
   },
   "file_extension": ".py",
   "mimetype": "text/x-python",
   "name": "python",
   "nbconvert_exporter": "python",
   "pygments_lexer": "ipython3",
   "version": "3.12.3"
  }
 },
 "nbformat": 4,
 "nbformat_minor": 5
}
